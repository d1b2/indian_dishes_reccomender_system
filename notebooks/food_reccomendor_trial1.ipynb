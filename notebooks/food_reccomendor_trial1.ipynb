{
 "cells": [
  {
   "cell_type": "markdown",
   "id": "50f6c9f1",
   "metadata": {},
   "source": [
    "#### Ingestion"
   ]
  },
  {
   "cell_type": "code",
   "execution_count": 1,
   "id": "92b1be80",
   "metadata": {},
   "outputs": [],
   "source": [
    "import pandas as pd\n",
    "import numpy as np"
   ]
  },
  {
   "cell_type": "code",
   "execution_count": 2,
   "id": "c456c598",
   "metadata": {},
   "outputs": [],
   "source": [
    "df=pd.read_csv('indian_food.csv')"
   ]
  },
  {
   "cell_type": "code",
   "execution_count": 3,
   "id": "8a035bd5",
   "metadata": {},
   "outputs": [
    {
     "name": "stdout",
     "output_type": "stream",
     "text": [
      "<class 'pandas.core.frame.DataFrame'>\n",
      "RangeIndex: 255 entries, 0 to 254\n",
      "Data columns (total 9 columns):\n",
      " #   Column          Non-Null Count  Dtype \n",
      "---  ------          --------------  ----- \n",
      " 0   name            255 non-null    object\n",
      " 1   ingredients     255 non-null    object\n",
      " 2   diet            255 non-null    object\n",
      " 3   prep_time       255 non-null    int64 \n",
      " 4   cook_time       255 non-null    int64 \n",
      " 5   flavor_profile  255 non-null    object\n",
      " 6   course          255 non-null    object\n",
      " 7   state           255 non-null    object\n",
      " 8   region          254 non-null    object\n",
      "dtypes: int64(2), object(7)\n",
      "memory usage: 18.1+ KB\n"
     ]
    }
   ],
   "source": [
    "df.info()"
   ]
  },
  {
   "cell_type": "code",
   "execution_count": 4,
   "id": "b84cd683",
   "metadata": {},
   "outputs": [
    {
     "data": {
      "text/html": [
       "<div>\n",
       "<style scoped>\n",
       "    .dataframe tbody tr th:only-of-type {\n",
       "        vertical-align: middle;\n",
       "    }\n",
       "\n",
       "    .dataframe tbody tr th {\n",
       "        vertical-align: top;\n",
       "    }\n",
       "\n",
       "    .dataframe thead th {\n",
       "        text-align: right;\n",
       "    }\n",
       "</style>\n",
       "<table border=\"1\" class=\"dataframe\">\n",
       "  <thead>\n",
       "    <tr style=\"text-align: right;\">\n",
       "      <th></th>\n",
       "      <th>name</th>\n",
       "      <th>ingredients</th>\n",
       "      <th>diet</th>\n",
       "      <th>prep_time</th>\n",
       "      <th>cook_time</th>\n",
       "      <th>flavor_profile</th>\n",
       "      <th>course</th>\n",
       "      <th>state</th>\n",
       "      <th>region</th>\n",
       "    </tr>\n",
       "  </thead>\n",
       "  <tbody>\n",
       "    <tr>\n",
       "      <th>0</th>\n",
       "      <td>Balu shahi</td>\n",
       "      <td>Maida flour, yogurt, oil, sugar</td>\n",
       "      <td>vegetarian</td>\n",
       "      <td>45</td>\n",
       "      <td>25</td>\n",
       "      <td>sweet</td>\n",
       "      <td>dessert</td>\n",
       "      <td>West Bengal</td>\n",
       "      <td>East</td>\n",
       "    </tr>\n",
       "    <tr>\n",
       "      <th>1</th>\n",
       "      <td>Boondi</td>\n",
       "      <td>Gram flour, ghee, sugar</td>\n",
       "      <td>vegetarian</td>\n",
       "      <td>80</td>\n",
       "      <td>30</td>\n",
       "      <td>sweet</td>\n",
       "      <td>dessert</td>\n",
       "      <td>Rajasthan</td>\n",
       "      <td>West</td>\n",
       "    </tr>\n",
       "    <tr>\n",
       "      <th>2</th>\n",
       "      <td>Gajar ka halwa</td>\n",
       "      <td>Carrots, milk, sugar, ghee, cashews, raisins</td>\n",
       "      <td>vegetarian</td>\n",
       "      <td>15</td>\n",
       "      <td>60</td>\n",
       "      <td>sweet</td>\n",
       "      <td>dessert</td>\n",
       "      <td>Punjab</td>\n",
       "      <td>North</td>\n",
       "    </tr>\n",
       "    <tr>\n",
       "      <th>3</th>\n",
       "      <td>Ghevar</td>\n",
       "      <td>Flour, ghee, kewra, milk, clarified butter, su...</td>\n",
       "      <td>vegetarian</td>\n",
       "      <td>15</td>\n",
       "      <td>30</td>\n",
       "      <td>sweet</td>\n",
       "      <td>dessert</td>\n",
       "      <td>Rajasthan</td>\n",
       "      <td>West</td>\n",
       "    </tr>\n",
       "    <tr>\n",
       "      <th>4</th>\n",
       "      <td>Gulab jamun</td>\n",
       "      <td>Milk powder, plain flour, baking powder, ghee,...</td>\n",
       "      <td>vegetarian</td>\n",
       "      <td>15</td>\n",
       "      <td>40</td>\n",
       "      <td>sweet</td>\n",
       "      <td>dessert</td>\n",
       "      <td>West Bengal</td>\n",
       "      <td>East</td>\n",
       "    </tr>\n",
       "  </tbody>\n",
       "</table>\n",
       "</div>"
      ],
      "text/plain": [
       "             name                                        ingredients  \\\n",
       "0      Balu shahi                    Maida flour, yogurt, oil, sugar   \n",
       "1          Boondi                            Gram flour, ghee, sugar   \n",
       "2  Gajar ka halwa       Carrots, milk, sugar, ghee, cashews, raisins   \n",
       "3          Ghevar  Flour, ghee, kewra, milk, clarified butter, su...   \n",
       "4     Gulab jamun  Milk powder, plain flour, baking powder, ghee,...   \n",
       "\n",
       "         diet  prep_time  cook_time flavor_profile   course        state  \\\n",
       "0  vegetarian         45         25          sweet  dessert  West Bengal   \n",
       "1  vegetarian         80         30          sweet  dessert    Rajasthan   \n",
       "2  vegetarian         15         60          sweet  dessert       Punjab   \n",
       "3  vegetarian         15         30          sweet  dessert    Rajasthan   \n",
       "4  vegetarian         15         40          sweet  dessert  West Bengal   \n",
       "\n",
       "  region  \n",
       "0   East  \n",
       "1   West  \n",
       "2  North  \n",
       "3   West  \n",
       "4   East  "
      ]
     },
     "execution_count": 4,
     "metadata": {},
     "output_type": "execute_result"
    }
   ],
   "source": [
    "df.head(5)"
   ]
  },
  {
   "cell_type": "markdown",
   "id": "9903c1f6",
   "metadata": {},
   "source": [
    "#### Cleaning"
   ]
  },
  {
   "cell_type": "code",
   "execution_count": 5,
   "id": "c4b60e45",
   "metadata": {},
   "outputs": [],
   "source": [
    "df.drop(columns=['prep_time','cook_time'],inplace=True,axis=1)"
   ]
  },
  {
   "cell_type": "code",
   "execution_count": 6,
   "id": "f6582bfa",
   "metadata": {},
   "outputs": [
    {
     "data": {
      "text/html": [
       "<div>\n",
       "<style scoped>\n",
       "    .dataframe tbody tr th:only-of-type {\n",
       "        vertical-align: middle;\n",
       "    }\n",
       "\n",
       "    .dataframe tbody tr th {\n",
       "        vertical-align: top;\n",
       "    }\n",
       "\n",
       "    .dataframe thead th {\n",
       "        text-align: right;\n",
       "    }\n",
       "</style>\n",
       "<table border=\"1\" class=\"dataframe\">\n",
       "  <thead>\n",
       "    <tr style=\"text-align: right;\">\n",
       "      <th></th>\n",
       "      <th>name</th>\n",
       "      <th>ingredients</th>\n",
       "      <th>diet</th>\n",
       "      <th>flavor_profile</th>\n",
       "      <th>course</th>\n",
       "      <th>state</th>\n",
       "      <th>region</th>\n",
       "    </tr>\n",
       "  </thead>\n",
       "  <tbody>\n",
       "    <tr>\n",
       "      <th>0</th>\n",
       "      <td>Balu shahi</td>\n",
       "      <td>Maida flour, yogurt, oil, sugar</td>\n",
       "      <td>vegetarian</td>\n",
       "      <td>sweet</td>\n",
       "      <td>dessert</td>\n",
       "      <td>West Bengal</td>\n",
       "      <td>East</td>\n",
       "    </tr>\n",
       "    <tr>\n",
       "      <th>1</th>\n",
       "      <td>Boondi</td>\n",
       "      <td>Gram flour, ghee, sugar</td>\n",
       "      <td>vegetarian</td>\n",
       "      <td>sweet</td>\n",
       "      <td>dessert</td>\n",
       "      <td>Rajasthan</td>\n",
       "      <td>West</td>\n",
       "    </tr>\n",
       "    <tr>\n",
       "      <th>2</th>\n",
       "      <td>Gajar ka halwa</td>\n",
       "      <td>Carrots, milk, sugar, ghee, cashews, raisins</td>\n",
       "      <td>vegetarian</td>\n",
       "      <td>sweet</td>\n",
       "      <td>dessert</td>\n",
       "      <td>Punjab</td>\n",
       "      <td>North</td>\n",
       "    </tr>\n",
       "    <tr>\n",
       "      <th>3</th>\n",
       "      <td>Ghevar</td>\n",
       "      <td>Flour, ghee, kewra, milk, clarified butter, su...</td>\n",
       "      <td>vegetarian</td>\n",
       "      <td>sweet</td>\n",
       "      <td>dessert</td>\n",
       "      <td>Rajasthan</td>\n",
       "      <td>West</td>\n",
       "    </tr>\n",
       "    <tr>\n",
       "      <th>4</th>\n",
       "      <td>Gulab jamun</td>\n",
       "      <td>Milk powder, plain flour, baking powder, ghee,...</td>\n",
       "      <td>vegetarian</td>\n",
       "      <td>sweet</td>\n",
       "      <td>dessert</td>\n",
       "      <td>West Bengal</td>\n",
       "      <td>East</td>\n",
       "    </tr>\n",
       "  </tbody>\n",
       "</table>\n",
       "</div>"
      ],
      "text/plain": [
       "             name                                        ingredients  \\\n",
       "0      Balu shahi                    Maida flour, yogurt, oil, sugar   \n",
       "1          Boondi                            Gram flour, ghee, sugar   \n",
       "2  Gajar ka halwa       Carrots, milk, sugar, ghee, cashews, raisins   \n",
       "3          Ghevar  Flour, ghee, kewra, milk, clarified butter, su...   \n",
       "4     Gulab jamun  Milk powder, plain flour, baking powder, ghee,...   \n",
       "\n",
       "         diet flavor_profile   course        state region  \n",
       "0  vegetarian          sweet  dessert  West Bengal   East  \n",
       "1  vegetarian          sweet  dessert    Rajasthan   West  \n",
       "2  vegetarian          sweet  dessert       Punjab  North  \n",
       "3  vegetarian          sweet  dessert    Rajasthan   West  \n",
       "4  vegetarian          sweet  dessert  West Bengal   East  "
      ]
     },
     "execution_count": 6,
     "metadata": {},
     "output_type": "execute_result"
    }
   ],
   "source": [
    "df.head(5)"
   ]
  },
  {
   "cell_type": "code",
   "execution_count": 7,
   "id": "669e4cf9",
   "metadata": {},
   "outputs": [
    {
     "name": "stdout",
     "output_type": "stream",
     "text": [
      "flavor_profile column unique values : ['sweet' 'spicy' 'bitter' '-1' 'sour']\n",
      "state column unique values : ['West Bengal' 'Rajasthan' 'Punjab' 'Uttar Pradesh' '-1' 'Odisha'\n",
      " 'Maharashtra' 'Uttarakhand' 'Assam' 'Bihar' 'Andhra Pradesh' 'Karnataka'\n",
      " 'Telangana' 'Kerala' 'Tamil Nadu' 'Gujarat' 'Tripura' 'Manipur'\n",
      " 'Nagaland' 'NCT of Delhi' 'Jammu & Kashmir' 'Chhattisgarh' 'Haryana'\n",
      " 'Madhya Pradesh' 'Goa']\n",
      "region column unique values : ['East' 'West' 'North' '-1' 'North East' 'South' 'Central' nan]\n"
     ]
    }
   ],
   "source": [
    "for i in ['flavor_profile','state','region']:\n",
    "    print(f'{i} column unique values : {df[i].unique()}')"
   ]
  },
  {
   "cell_type": "code",
   "execution_count": 8,
   "id": "9c76e701",
   "metadata": {},
   "outputs": [],
   "source": [
    "df['state'].replace(\"-1\",\"All\",inplace=True)\n",
    "df['region'].replace(\"-1\",\"Pan_India\",inplace=True)\n",
    "df.replace(np.nan,\"North\",inplace=True)"
   ]
  },
  {
   "cell_type": "code",
   "execution_count": 9,
   "id": "5283dff1",
   "metadata": {},
   "outputs": [
    {
     "name": "stdout",
     "output_type": "stream",
     "text": [
      "flavor_profile column unique values : ['sweet' 'spicy' 'bitter' '-1' 'sour']\n",
      "state column unique values : ['West Bengal' 'Rajasthan' 'Punjab' 'Uttar Pradesh' 'All' 'Odisha'\n",
      " 'Maharashtra' 'Uttarakhand' 'Assam' 'Bihar' 'Andhra Pradesh' 'Karnataka'\n",
      " 'Telangana' 'Kerala' 'Tamil Nadu' 'Gujarat' 'Tripura' 'Manipur'\n",
      " 'Nagaland' 'NCT of Delhi' 'Jammu & Kashmir' 'Chhattisgarh' 'Haryana'\n",
      " 'Madhya Pradesh' 'Goa']\n",
      "region column unique values : ['East' 'West' 'North' 'Pan_India' 'North East' 'South' 'Central']\n"
     ]
    }
   ],
   "source": [
    "for i in ['flavor_profile','state','region']:\n",
    "    print(f'{i} column unique values : {df[i].unique()}')"
   ]
  },
  {
   "cell_type": "code",
   "execution_count": 10,
   "id": "c9ca7d5b",
   "metadata": {},
   "outputs": [],
   "source": [
    "name_list=['Chapati',\n",
    "'Naan',\n",
    "'Rongi',\n",
    "'Kanji',\n",
    "'Pachadi',\n",
    "'Paniyaram',\n",
    "'Paruppu sadam',\n",
    "'Puli sadam',\n",
    "'Puttu',\n",
    "'Sandige',\n",
    "'Sevai',\n",
    "'Thayir sadam',\n",
    "'Theeyal',\n",
    "'Bhakri',\n",
    "'Copra paak',\n",
    "'Dahi vada',\n",
    "'Dalithoy',\n",
    "'Kansar',\n",
    "'Farsi Puri',\n",
    "'Khar',\n",
    "'Luchi',\n",
    "'Bengena Pitika',\n",
    "'Bilahi Maas',\n",
    "'Black rice',\n",
    "'Brown Rice',\n",
    "'Chingri Bhape',\n",
    "'Pakhala',\n",
    "'Pani Pitha',\n",
    "'Red Rice']"
   ]
  },
  {
   "cell_type": "code",
   "execution_count": 11,
   "id": "ae21721c",
   "metadata": {},
   "outputs": [],
   "source": [
    "flavor_list=['sweet',\n",
    "'spicy',\n",
    "'spicy',\n",
    "'spicy',\n",
    "'spicy',\n",
    "'spicy',\n",
    "'spicy',\n",
    "'spicy',\n",
    "'sweet',\n",
    "'spicy',\n",
    "'spicy',\n",
    "'spicy',\n",
    "'sour',\n",
    "'sweet',\n",
    "'sweet',\n",
    "'spicy',\n",
    "'spicy',\n",
    "'sweet',\n",
    "'sweet',\n",
    "'sweet',\n",
    "'sweet',\n",
    "'spicy',\n",
    "'spicy',\n",
    "'spicy',\n",
    "'spicy',\n",
    "'spicy',\n",
    "'spicy',\n",
    "'sweet',\n",
    "'spicy']"
   ]
  },
  {
   "cell_type": "code",
   "execution_count": 12,
   "id": "1fdd2088",
   "metadata": {},
   "outputs": [],
   "source": [
    "for name in df.loc[df['flavor_profile']=='-1',['name','flavor_profile']]['name']:\n",
    "    name_idx=name_list.index(name)\n",
    "    df.loc[df['name']==name,'flavor_profile']=flavor_list[name_idx]"
   ]
  },
  {
   "cell_type": "code",
   "execution_count": 13,
   "id": "c8f38971",
   "metadata": {},
   "outputs": [
    {
     "name": "stdout",
     "output_type": "stream",
     "text": [
      "flavor_profile column unique values : ['sweet' 'spicy' 'bitter' 'sour']\n",
      "state column unique values : ['West Bengal' 'Rajasthan' 'Punjab' 'Uttar Pradesh' 'All' 'Odisha'\n",
      " 'Maharashtra' 'Uttarakhand' 'Assam' 'Bihar' 'Andhra Pradesh' 'Karnataka'\n",
      " 'Telangana' 'Kerala' 'Tamil Nadu' 'Gujarat' 'Tripura' 'Manipur'\n",
      " 'Nagaland' 'NCT of Delhi' 'Jammu & Kashmir' 'Chhattisgarh' 'Haryana'\n",
      " 'Madhya Pradesh' 'Goa']\n",
      "region column unique values : ['East' 'West' 'North' 'Pan_India' 'North East' 'South' 'Central']\n"
     ]
    }
   ],
   "source": [
    "for i in ['flavor_profile','state','region']:\n",
    "    print(f'{i} column unique values : {df[i].unique()}')"
   ]
  },
  {
   "cell_type": "markdown",
   "id": "7208c011",
   "metadata": {},
   "source": [
    "#### Creating tags"
   ]
  },
  {
   "cell_type": "code",
   "execution_count": 14,
   "id": "2353ab46",
   "metadata": {},
   "outputs": [],
   "source": [
    "df['tags']=df['ingredients']+\" \"+df['diet']+\" \"+df['flavor_profile']+\" \"+df['course']+\" \"+df['state']+\" \"+df['region']"
   ]
  },
  {
   "cell_type": "code",
   "execution_count": 15,
   "id": "c0481b89",
   "metadata": {},
   "outputs": [
    {
     "data": {
      "text/html": [
       "<div>\n",
       "<style scoped>\n",
       "    .dataframe tbody tr th:only-of-type {\n",
       "        vertical-align: middle;\n",
       "    }\n",
       "\n",
       "    .dataframe tbody tr th {\n",
       "        vertical-align: top;\n",
       "    }\n",
       "\n",
       "    .dataframe thead th {\n",
       "        text-align: right;\n",
       "    }\n",
       "</style>\n",
       "<table border=\"1\" class=\"dataframe\">\n",
       "  <thead>\n",
       "    <tr style=\"text-align: right;\">\n",
       "      <th></th>\n",
       "      <th>name</th>\n",
       "      <th>ingredients</th>\n",
       "      <th>diet</th>\n",
       "      <th>flavor_profile</th>\n",
       "      <th>course</th>\n",
       "      <th>state</th>\n",
       "      <th>region</th>\n",
       "      <th>tags</th>\n",
       "    </tr>\n",
       "  </thead>\n",
       "  <tbody>\n",
       "    <tr>\n",
       "      <th>0</th>\n",
       "      <td>Balu shahi</td>\n",
       "      <td>Maida flour, yogurt, oil, sugar</td>\n",
       "      <td>vegetarian</td>\n",
       "      <td>sweet</td>\n",
       "      <td>dessert</td>\n",
       "      <td>West Bengal</td>\n",
       "      <td>East</td>\n",
       "      <td>maida flour, yogurt, oil, sugar vegetarian swe...</td>\n",
       "    </tr>\n",
       "    <tr>\n",
       "      <th>1</th>\n",
       "      <td>Boondi</td>\n",
       "      <td>Gram flour, ghee, sugar</td>\n",
       "      <td>vegetarian</td>\n",
       "      <td>sweet</td>\n",
       "      <td>dessert</td>\n",
       "      <td>Rajasthan</td>\n",
       "      <td>West</td>\n",
       "      <td>gram flour, ghee, sugar vegetarian sweet desse...</td>\n",
       "    </tr>\n",
       "    <tr>\n",
       "      <th>2</th>\n",
       "      <td>Gajar ka halwa</td>\n",
       "      <td>Carrots, milk, sugar, ghee, cashews, raisins</td>\n",
       "      <td>vegetarian</td>\n",
       "      <td>sweet</td>\n",
       "      <td>dessert</td>\n",
       "      <td>Punjab</td>\n",
       "      <td>North</td>\n",
       "      <td>carrots, milk, sugar, ghee, cashews, raisins v...</td>\n",
       "    </tr>\n",
       "    <tr>\n",
       "      <th>3</th>\n",
       "      <td>Ghevar</td>\n",
       "      <td>Flour, ghee, kewra, milk, clarified butter, su...</td>\n",
       "      <td>vegetarian</td>\n",
       "      <td>sweet</td>\n",
       "      <td>dessert</td>\n",
       "      <td>Rajasthan</td>\n",
       "      <td>West</td>\n",
       "      <td>flour, ghee, kewra, milk, clarified butter, su...</td>\n",
       "    </tr>\n",
       "    <tr>\n",
       "      <th>4</th>\n",
       "      <td>Gulab jamun</td>\n",
       "      <td>Milk powder, plain flour, baking powder, ghee,...</td>\n",
       "      <td>vegetarian</td>\n",
       "      <td>sweet</td>\n",
       "      <td>dessert</td>\n",
       "      <td>West Bengal</td>\n",
       "      <td>East</td>\n",
       "      <td>milk powder, plain flour, baking powder, ghee,...</td>\n",
       "    </tr>\n",
       "  </tbody>\n",
       "</table>\n",
       "</div>"
      ],
      "text/plain": [
       "             name                                        ingredients  \\\n",
       "0      Balu shahi                    Maida flour, yogurt, oil, sugar   \n",
       "1          Boondi                            Gram flour, ghee, sugar   \n",
       "2  Gajar ka halwa       Carrots, milk, sugar, ghee, cashews, raisins   \n",
       "3          Ghevar  Flour, ghee, kewra, milk, clarified butter, su...   \n",
       "4     Gulab jamun  Milk powder, plain flour, baking powder, ghee,...   \n",
       "\n",
       "         diet flavor_profile   course        state region  \\\n",
       "0  vegetarian          sweet  dessert  West Bengal   East   \n",
       "1  vegetarian          sweet  dessert    Rajasthan   West   \n",
       "2  vegetarian          sweet  dessert       Punjab  North   \n",
       "3  vegetarian          sweet  dessert    Rajasthan   West   \n",
       "4  vegetarian          sweet  dessert  West Bengal   East   \n",
       "\n",
       "                                                tags  \n",
       "0  maida flour, yogurt, oil, sugar vegetarian swe...  \n",
       "1  gram flour, ghee, sugar vegetarian sweet desse...  \n",
       "2  carrots, milk, sugar, ghee, cashews, raisins v...  \n",
       "3  flour, ghee, kewra, milk, clarified butter, su...  \n",
       "4  milk powder, plain flour, baking powder, ghee,...  "
      ]
     },
     "execution_count": 15,
     "metadata": {},
     "output_type": "execute_result"
    }
   ],
   "source": [
    "df['tags']=df['tags'].str.lower()\n",
    "df.head(5)"
   ]
  },
  {
   "cell_type": "code",
   "execution_count": 16,
   "id": "3655ff36",
   "metadata": {},
   "outputs": [],
   "source": [
    "df=df[['name','tags']]"
   ]
  },
  {
   "cell_type": "markdown",
   "id": "ba82b5bd",
   "metadata": {},
   "source": [
    "#### Vectorizing and finding similarity"
   ]
  },
  {
   "cell_type": "code",
   "execution_count": 17,
   "id": "160cd715",
   "metadata": {},
   "outputs": [],
   "source": [
    "from sklearn.metrics.pairwise import cosine_similarity\n",
    "from sklearn.feature_extraction.text import CountVectorizer"
   ]
  },
  {
   "cell_type": "code",
   "execution_count": 18,
   "id": "79983bba",
   "metadata": {},
   "outputs": [],
   "source": [
    "cv=CountVectorizer(max_features=2500,stop_words='english')"
   ]
  },
  {
   "cell_type": "code",
   "execution_count": 19,
   "id": "345df4f7",
   "metadata": {},
   "outputs": [],
   "source": [
    "vector=cv.fit_transform(df['tags']).toarray()"
   ]
  },
  {
   "cell_type": "code",
   "execution_count": 20,
   "id": "abd0a791",
   "metadata": {},
   "outputs": [
    {
     "data": {
      "text/plain": [
       "array([[0, 0, 0, ..., 0, 1, 0],\n",
       "       [0, 0, 0, ..., 0, 0, 0],\n",
       "       [0, 0, 0, ..., 0, 0, 0],\n",
       "       ...,\n",
       "       [0, 0, 0, ..., 0, 0, 0],\n",
       "       [0, 0, 0, ..., 0, 0, 0],\n",
       "       [0, 0, 0, ..., 0, 0, 0]], dtype=int64)"
      ]
     },
     "execution_count": 20,
     "metadata": {},
     "output_type": "execute_result"
    }
   ],
   "source": [
    "vector"
   ]
  },
  {
   "cell_type": "code",
   "execution_count": 21,
   "id": "0fcf504b",
   "metadata": {},
   "outputs": [],
   "source": [
    "similarity=cosine_similarity(vector)"
   ]
  },
  {
   "cell_type": "code",
   "execution_count": 22,
   "id": "029fc105",
   "metadata": {},
   "outputs": [
    {
     "data": {
      "text/plain": [
       "array([[1.        , 0.60302269, 0.36363636, ..., 0.23354968, 0.30151134,\n",
       "        0.31139958],\n",
       "       [0.60302269, 1.        , 0.50251891, ..., 0.25819889, 0.33333333,\n",
       "        0.34426519],\n",
       "       [0.36363636, 0.50251891, 1.        , ..., 0.31139958, 0.30151134,\n",
       "        0.23354968],\n",
       "       ...,\n",
       "       [0.23354968, 0.25819889, 0.31139958, ..., 1.        , 0.25819889,\n",
       "        0.2       ],\n",
       "       [0.30151134, 0.33333333, 0.30151134, ..., 0.25819889, 1.        ,\n",
       "        0.32274861],\n",
       "       [0.31139958, 0.34426519, 0.23354968, ..., 0.2       , 0.32274861,\n",
       "        1.        ]])"
      ]
     },
     "execution_count": 22,
     "metadata": {},
     "output_type": "execute_result"
    }
   ],
   "source": [
    "similarity"
   ]
  },
  {
   "cell_type": "code",
   "execution_count": 23,
   "id": "32dee49d",
   "metadata": {},
   "outputs": [
    {
     "data": {
      "text/plain": [
       "255"
      ]
     },
     "execution_count": 23,
     "metadata": {},
     "output_type": "execute_result"
    }
   ],
   "source": [
    "len(similarity[0])"
   ]
  },
  {
   "cell_type": "markdown",
   "id": "47a73776",
   "metadata": {},
   "source": [
    "#### Testing recommendor"
   ]
  },
  {
   "cell_type": "code",
   "execution_count": 24,
   "id": "cd778091",
   "metadata": {},
   "outputs": [],
   "source": [
    "def reccomend(dish):\n",
    "    index=df[df['name']==dish].index[0]\n",
    "    distance=sorted(list(enumerate(similarity[index])),reverse=True,key=lambda x:x[1])\n",
    "    \n",
    "    for i in distance[1:6]:\n",
    "        print(df.iloc[i[0]]['name'])"
   ]
  },
  {
   "cell_type": "code",
   "execution_count": 25,
   "id": "ae0319fd",
   "metadata": {},
   "outputs": [
    {
     "name": "stdout",
     "output_type": "stream",
     "text": [
      "Imarti\n",
      "Mihidana\n",
      "Pantua\n",
      "Ledikeni\n",
      "Rasgulla\n"
     ]
    }
   ],
   "source": [
    "reccomend(dish='Balu shahi')"
   ]
  },
  {
   "cell_type": "code",
   "execution_count": 26,
   "id": "3397a29f",
   "metadata": {},
   "outputs": [
    {
     "name": "stdout",
     "output_type": "stream",
     "text": [
      "Aloo shimla mirch\n",
      "Aloo gobi\n",
      "Aloo matar\n",
      "Paratha\n",
      "Kofta\n"
     ]
    }
   ],
   "source": [
    "reccomend('Aloo tikki')"
   ]
  },
  {
   "cell_type": "code",
   "execution_count": 27,
   "id": "cd687318",
   "metadata": {},
   "outputs": [
    {
     "name": "stdout",
     "output_type": "stream",
     "text": [
      "Upma\n",
      "Uttapam\n",
      "Puri Bhaji\n",
      "Thayir sadam\n",
      "Dosa\n"
     ]
    }
   ],
   "source": [
    "reccomend('Vada')"
   ]
  },
  {
   "cell_type": "markdown",
   "id": "8144cf03",
   "metadata": {},
   "source": [
    "#### Serializing"
   ]
  },
  {
   "cell_type": "code",
   "execution_count": 28,
   "id": "eb5a6c7b",
   "metadata": {},
   "outputs": [],
   "source": [
    "import pickle"
   ]
  },
  {
   "cell_type": "code",
   "execution_count": 29,
   "id": "3c7827a4",
   "metadata": {},
   "outputs": [],
   "source": [
    "pickle.dump(df,open(\"model/dish_name.pkl\",'wb'))\n",
    "pickle.dump(similarity,open(\"model/similarity.pkl\",'wb'))"
   ]
  },
  {
   "cell_type": "code",
   "execution_count": null,
   "id": "45b4c475",
   "metadata": {},
   "outputs": [],
   "source": []
  }
 ],
 "metadata": {
  "kernelspec": {
   "display_name": "Python 3 (ipykernel)",
   "language": "python",
   "name": "python3"
  },
  "language_info": {
   "codemirror_mode": {
    "name": "ipython",
    "version": 3
   },
   "file_extension": ".py",
   "mimetype": "text/x-python",
   "name": "python",
   "nbconvert_exporter": "python",
   "pygments_lexer": "ipython3",
   "version": "3.11.3"
  }
 },
 "nbformat": 4,
 "nbformat_minor": 5
}
